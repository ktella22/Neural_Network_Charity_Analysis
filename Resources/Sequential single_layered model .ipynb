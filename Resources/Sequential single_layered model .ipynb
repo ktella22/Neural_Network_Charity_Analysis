{
 "cells": [
  {
   "cell_type": "code",
   "execution_count": 1,
   "id": "aebd53ba",
   "metadata": {},
   "outputs": [],
   "source": [
    "# Import dependencies\n",
    "import pandas as pd\n",
    "import matplotlib as plt\n",
    "from sklearn.datasets import make_blobs\n",
    "import sklearn as skl\n",
    "import tensorflow as tf"
   ]
  },
  {
   "cell_type": "code",
   "execution_count": 2,
   "id": "fdd65363",
   "metadata": {},
   "outputs": [
    {
     "data": {
      "text/plain": [
       "<AxesSubplot:xlabel='Feature 1', ylabel='Feature 2'>"
      ]
     },
     "execution_count": 2,
     "metadata": {},
     "output_type": "execute_result"
    },
    {
     "data": {
      "image/png": "[encoded data removed]",
      "text/plain": [
       "<Figure size 432x288 with 2 Axes>"
      ]
     },
     "metadata": {
      "needs_background": "light"
     },
     "output_type": "display_data"
    }
   ],
   "source": [
    "# Use make_blobs to create 1000 samples with two features (x and y)\n",
    "# that are linearly separable into two groups \n",
    "\n",
    "# Generate dummy dataset\n",
    "X, y = make_blobs(n_samples=1000, centers=2, n_features=2, random_state=78)\n",
    "\n",
    "# Creating a DataFrame with the dummy data\n",
    "df = pd.DataFrame(X, columns=[\"Feature 1\", \"Feature 2\"])\n",
    "df[\"Target\"] = y\n",
    "\n",
    "# Plotting the dummy data \n",
    "df.plot.scatter(x=\"Feature 1\", y=\"Feature 2\", c=\"Target\", colormap=\"winter\")"
   ]
  },
  {
   "cell_type": "code",
   "execution_count": 3,
   "id": "df9c2374",
   "metadata": {},
   "outputs": [],
   "source": [
    "# split the data into training and testing dataset using train_test_split\n",
    "\n",
    "# Use sklearn to split dataset\n",
    "from sklearn.model_selection import train_test_split\n",
    "X_train, X_test, y_train, y_test = train_test_split(X, y, random_state=78)"
   ]
  },
  {
   "cell_type": "code",
   "execution_count": 4,
   "id": "0a44c0f4",
   "metadata": {},
   "outputs": [],
   "source": [
    "# Normalize the data before Neural Network model\n",
    "# the more stabilize the model, the better Neural network model will generalize \n",
    "\n",
    "# Create scaler instance\n",
    "X_scaler = skl.preprocessing.StandardScaler()\n",
    "\n",
    "# Fit the scaler\n",
    "X_scaler.fit(X_train)\n",
    "\n",
    "# Scale the data\n",
    "X_train_scaled = X_scaler.transform(X_train)\n",
    "X_test_scaled = X_scaler.transform(X_test)"
   ]
  },
  {
   "cell_type": "code",
   "execution_count": 5,
   "id": "0a3d322e",
   "metadata": {},
   "outputs": [],
   "source": [
    "# Create the Keras Sequential model to start neural network model \n",
    "nn_model = tf.keras.models.Sequential()"
   ]
  },
  {
   "cell_type": "code",
   "execution_count": 6,
   "id": "b19dd001",
   "metadata": {},
   "outputs": [],
   "source": [
    "# Add first layer that contains inputs and hidden layer of neutrons to the model \n",
    "# Add our first Dense layer, including the input layer\n",
    "nn_model.add(tf.keras.layers.Dense(units=1, activation=\"relu\", input_dim=2))"
   ]
  },
  {
   "cell_type": "code",
   "execution_count": 7,
   "id": "8dfb2b64",
   "metadata": {},
   "outputs": [],
   "source": [
    "# To suppy number of output neutron. Use Sigmoid function activation to produce probbilty output \n",
    "# Add the output layer that uses a probability activation function \n",
    "nn_model.add(tf.keras.layers.Dense(units=1, activation=\"sigmoid\"))"
   ]
  },
  {
   "cell_type": "code",
   "execution_count": 8,
   "id": "5b82b5bd",
   "metadata": {},
   "outputs": [
    {
     "name": "stdout",
     "output_type": "stream",
     "text": [
      "Model: \"sequential\"\n",
      "_________________________________________________________________\n",
      " Layer (type)                Output Shape              Param #   \n",
      "=================================================================\n",
      " dense (Dense)               (None, 1)                 3         \n",
      "                                                                 \n",
      " dense_1 (Dense)             (None, 1)                 2         \n",
      "                                                                 \n",
      "=================================================================\n",
      "Total params: 5\n",
      "Trainable params: 5\n",
      "Non-trainable params: 0\n",
      "_________________________________________________________________\n"
     ]
    }
   ],
   "source": [
    "# To check the structure of the Sequential model (after adding layers to Sequential model)\n",
    "nn_model.summary()"
   ]
  },
  {
   "cell_type": "code",
   "execution_count": 9,
   "id": "50743a27",
   "metadata": {},
   "outputs": [],
   "source": [
    "# Compile the Sequential model together and customize metrics\n",
    "nn_model.compile(loss=\"binary_crossentropy\", optimizer=\"adam\", metrics=[\"accuracy\"])"
   ]
  },
  {
   "cell_type": "code",
   "execution_count": 10,
   "id": "874948c4",
   "metadata": {},
   "outputs": [
    {
     "name": "stdout",
     "output_type": "stream",
     "text": [
      "Epoch 1/100\n",
      "24/24 [==============================] - 0s 1ms/step - loss: 0.6001 - accuracy: 1.0000\n",
      "Epoch 2/100\n",
      "24/24 [==============================] - 0s 1ms/step - loss: 0.5890 - accuracy: 1.0000\n",
      "Epoch 3/100\n",
      "24/24 [==============================] - 0s 911us/step - loss: 0.5775 - accuracy: 1.0000\n",
      "Epoch 4/100\n",
      "24/24 [==============================] - 0s 1ms/step - loss: 0.5654 - accuracy: 1.0000\n",
      "Epoch 5/100\n",
      "24/24 [==============================] - 0s 1ms/step - loss: 0.5529 - accuracy: 1.0000\n",
      "Epoch 6/100\n",
      "24/24 [==============================] - 0s 1ms/step - loss: 0.5402 - accuracy: 1.0000\n",
      "Epoch 7/100\n",
      "24/24 [==============================] - 0s 1ms/step - loss: 0.5271 - accuracy: 1.0000\n",
      "Epoch 8/100\n",
      "24/24 [==============================] - 0s 1ms/step - loss: 0.5139 - accuracy: 1.0000\n",
      "Epoch 9/100\n",
      "24/24 [==============================] - 0s 998us/step - loss: 0.5007 - accuracy: 1.0000\n",
      "Epoch 10/100\n",
      "24/24 [==============================] - 0s 1ms/step - loss: 0.4873 - accuracy: 1.0000\n",
      "Epoch 11/100\n",
      "24/24 [==============================] - 0s 1ms/step - loss: 0.4741 - accuracy: 1.0000\n",
      "Epoch 12/100\n",
      "24/24 [==============================] - 0s 1ms/step - loss: 0.4609 - accuracy: 1.0000\n",
      "Epoch 13/100\n",
      "24/24 [==============================] - 0s 867us/step - loss: 0.4479 - accuracy: 1.0000\n",
      "Epoch 14/100\n",
      "24/24 [==============================] - 0s 1ms/step - loss: 0.4351 - accuracy: 1.0000\n",
      "Epoch 15/100\n",
      "24/24 [==============================] - 0s 1ms/step - loss: 0.4226 - accuracy: 1.0000\n",
      "Epoch 16/100\n",
      "24/24 [==============================] - 0s 1ms/step - loss: 0.4104 - accuracy: 1.0000\n",
      "Epoch 17/100\n",
      "24/24 [==============================] - 0s 1ms/step - loss: 0.3986 - accuracy: 1.0000\n",
      "Epoch 18/100\n",
      "24/24 [==============================] - 0s 911us/step - loss: 0.3871 - accuracy: 1.0000\n",
      "Epoch 19/100\n",
      "24/24 [==============================] - 0s 1ms/step - loss: 0.3760 - accuracy: 1.0000\n",
      "Epoch 20/100\n",
      "24/24 [==============================] - 0s 1ms/step - loss: 0.3652 - accuracy: 1.0000\n",
      "Epoch 21/100\n",
      "24/24 [==============================] - 0s 2ms/step - loss: 0.3549 - accuracy: 1.0000\n",
      "Epoch 22/100\n",
      "24/24 [==============================] - 0s 1ms/step - loss: 0.3448 - accuracy: 1.0000\n",
      "Epoch 23/100\n",
      "24/24 [==============================] - 0s 1ms/step - loss: 0.3352 - accuracy: 1.0000\n",
      "Epoch 24/100\n",
      "24/24 [==============================] - 0s 1ms/step - loss: 0.3259 - accuracy: 1.0000\n",
      "Epoch 25/100\n",
      "24/24 [==============================] - 0s 1ms/step - loss: 0.3169 - accuracy: 1.0000\n",
      "Epoch 26/100\n",
      "24/24 [==============================] - 0s 1ms/step - loss: 0.3082 - accuracy: 1.0000\n",
      "Epoch 27/100\n",
      "24/24 [==============================] - 0s 1ms/step - loss: 0.3000 - accuracy: 1.0000\n",
      "Epoch 28/100\n",
      "24/24 [==============================] - 0s 2ms/step - loss: 0.2919 - accuracy: 1.0000\n",
      "Epoch 29/100\n",
      "24/24 [==============================] - 0s 1ms/step - loss: 0.2843 - accuracy: 1.0000\n",
      "Epoch 30/100\n",
      "24/24 [==============================] - 0s 1ms/step - loss: 0.2769 - accuracy: 1.0000\n",
      "Epoch 31/100\n",
      "24/24 [==============================] - 0s 1ms/step - loss: 0.2698 - accuracy: 1.0000\n",
      "Epoch 32/100\n",
      "24/24 [==============================] - 0s 1ms/step - loss: 0.2629 - accuracy: 1.0000\n",
      "Epoch 33/100\n",
      "24/24 [==============================] - 0s 1ms/step - loss: 0.2563 - accuracy: 1.0000\n",
      "Epoch 34/100\n",
      "24/24 [==============================] - 0s 1ms/step - loss: 0.2499 - accuracy: 1.0000\n",
      "Epoch 35/100\n",
      "24/24 [==============================] - 0s 1ms/step - loss: 0.2438 - accuracy: 1.0000\n",
      "Epoch 36/100\n",
      "24/24 [==============================] - 0s 1ms/step - loss: 0.2378 - accuracy: 1.0000\n",
      "Epoch 37/100\n",
      "24/24 [==============================] - 0s 998us/step - loss: 0.2322 - accuracy: 1.0000\n",
      "Epoch 38/100\n",
      "24/24 [==============================] - 0s 1ms/step - loss: 0.2266 - accuracy: 1.0000\n",
      "Epoch 39/100\n",
      "24/24 [==============================] - 0s 2ms/step - loss: 0.2214 - accuracy: 1.0000\n",
      "Epoch 40/100\n",
      "24/24 [==============================] - 0s 1ms/step - loss: 0.2162 - accuracy: 1.0000\n",
      "Epoch 41/100\n",
      "24/24 [==============================] - 0s 1ms/step - loss: 0.2113 - accuracy: 1.0000\n",
      "Epoch 42/100\n",
      "24/24 [==============================] - 0s 1ms/step - loss: 0.2065 - accuracy: 1.0000\n",
      "Epoch 43/100\n",
      "24/24 [==============================] - 0s 1ms/step - loss: 0.2018 - accuracy: 1.0000\n",
      "Epoch 44/100\n",
      "24/24 [==============================] - 0s 1ms/step - loss: 0.1973 - accuracy: 1.0000\n",
      "Epoch 45/100\n",
      "24/24 [==============================] - 0s 1ms/step - loss: 0.1930 - accuracy: 1.0000\n",
      "Epoch 46/100\n",
      "24/24 [==============================] - 0s 2ms/step - loss: 0.1888 - accuracy: 1.0000\n",
      "Epoch 47/100\n",
      "24/24 [==============================] - 0s 1ms/step - loss: 0.1847 - accuracy: 1.0000\n",
      "Epoch 48/100\n",
      "24/24 [==============================] - 0s 1ms/step - loss: 0.1808 - accuracy: 1.0000\n",
      "Epoch 49/100\n",
      "24/24 [==============================] - 0s 1ms/step - loss: 0.1769 - accuracy: 1.0000\n",
      "Epoch 50/100\n",
      "24/24 [==============================] - 0s 1ms/step - loss: 0.1732 - accuracy: 1.0000\n",
      "Epoch 51/100\n",
      "24/24 [==============================] - 0s 1ms/step - loss: 0.1696 - accuracy: 1.0000\n",
      "Epoch 52/100\n",
      "24/24 [==============================] - 0s 1ms/step - loss: 0.1661 - accuracy: 1.0000\n",
      "Epoch 53/100\n",
      "24/24 [==============================] - 0s 911us/step - loss: 0.1627 - accuracy: 1.0000\n",
      "Epoch 54/100\n",
      "24/24 [==============================] - 0s 2ms/step - loss: 0.1595 - accuracy: 1.0000\n",
      "Epoch 55/100\n",
      "24/24 [==============================] - 0s 868us/step - loss: 0.1563 - accuracy: 1.0000\n",
      "Epoch 56/100\n",
      "24/24 [==============================] - 0s 867us/step - loss: 0.1532 - accuracy: 1.0000\n",
      "Epoch 57/100\n",
      "24/24 [==============================] - 0s 867us/step - loss: 0.1502 - accuracy: 1.0000\n",
      "Epoch 58/100\n",
      "24/24 [==============================] - 0s 868us/step - loss: 0.1472 - accuracy: 1.0000\n",
      "Epoch 59/100\n",
      "24/24 [==============================] - 0s 824us/step - loss: 0.1444 - accuracy: 1.0000\n",
      "Epoch 60/100\n",
      "24/24 [==============================] - 0s 881us/step - loss: 0.1416 - accuracy: 1.0000\n",
      "Epoch 61/100\n",
      "24/24 [==============================] - 0s 867us/step - loss: 0.1389 - accuracy: 1.0000\n",
      "Epoch 62/100\n",
      "24/24 [==============================] - 0s 824us/step - loss: 0.1363 - accuracy: 1.0000\n",
      "Epoch 63/100\n",
      "24/24 [==============================] - 0s 867us/step - loss: 0.1337 - accuracy: 1.0000\n",
      "Epoch 64/100\n",
      "24/24 [==============================] - 0s 824us/step - loss: 0.1312 - accuracy: 1.0000\n",
      "Epoch 65/100\n",
      "24/24 [==============================] - 0s 867us/step - loss: 0.1288 - accuracy: 1.0000\n",
      "Epoch 66/100\n",
      "24/24 [==============================] - 0s 1ms/step - loss: 0.1264 - accuracy: 1.0000\n",
      "Epoch 67/100\n",
      "24/24 [==============================] - 0s 909us/step - loss: 0.1241 - accuracy: 1.0000\n",
      "Epoch 68/100\n",
      "24/24 [==============================] - 0s 1ms/step - loss: 0.1219 - accuracy: 1.0000\n",
      "Epoch 69/100\n",
      "24/24 [==============================] - 0s 825us/step - loss: 0.1197 - accuracy: 1.0000\n",
      "Epoch 70/100\n",
      "24/24 [==============================] - 0s 911us/step - loss: 0.1175 - accuracy: 1.0000\n",
      "Epoch 71/100\n",
      "24/24 [==============================] - 0s 867us/step - loss: 0.1154 - accuracy: 1.0000\n",
      "Epoch 72/100\n",
      "24/24 [==============================] - 0s 998us/step - loss: 0.1134 - accuracy: 1.0000\n",
      "Epoch 73/100\n",
      "24/24 [==============================] - 0s 867us/step - loss: 0.1114 - accuracy: 1.0000\n",
      "Epoch 74/100\n",
      "24/24 [==============================] - 0s 910us/step - loss: 0.1095 - accuracy: 1.0000\n",
      "Epoch 75/100\n",
      "24/24 [==============================] - 0s 1ms/step - loss: 0.1076 - accuracy: 1.0000\n",
      "Epoch 76/100\n",
      "24/24 [==============================] - 0s 1ms/step - loss: 0.1058 - accuracy: 1.0000\n",
      "Epoch 77/100\n",
      "24/24 [==============================] - 0s 1ms/step - loss: 0.1040 - accuracy: 1.0000\n",
      "Epoch 78/100\n",
      "24/24 [==============================] - 0s 954us/step - loss: 0.1022 - accuracy: 1.0000\n",
      "Epoch 79/100\n",
      "24/24 [==============================] - 0s 1ms/step - loss: 0.1005 - accuracy: 1.0000\n",
      "Epoch 80/100\n",
      "24/24 [==============================] - 0s 997us/step - loss: 0.0988 - accuracy: 1.0000\n",
      "Epoch 81/100\n",
      "24/24 [==============================] - 0s 910us/step - loss: 0.0972 - accuracy: 1.0000\n",
      "Epoch 82/100\n"
     ]
    },
    {
     "name": "stdout",
     "output_type": "stream",
     "text": [
      "24/24 [==============================] - 0s 1ms/step - loss: 0.0955 - accuracy: 1.0000\n",
      "Epoch 83/100\n",
      "24/24 [==============================] - 0s 1ms/step - loss: 0.0940 - accuracy: 1.0000\n",
      "Epoch 84/100\n",
      "24/24 [==============================] - 0s 867us/step - loss: 0.0924 - accuracy: 1.0000\n",
      "Epoch 85/100\n",
      "24/24 [==============================] - 0s 867us/step - loss: 0.0909 - accuracy: 1.0000\n",
      "Epoch 86/100\n",
      "24/24 [==============================] - 0s 1ms/step - loss: 0.0894 - accuracy: 1.0000\n",
      "Epoch 87/100\n",
      "24/24 [==============================] - 0s 867us/step - loss: 0.0880 - accuracy: 1.0000\n",
      "Epoch 88/100\n",
      "24/24 [==============================] - 0s 1ms/step - loss: 0.0866 - accuracy: 1.0000\n",
      "Epoch 89/100\n",
      "24/24 [==============================] - 0s 824us/step - loss: 0.0852 - accuracy: 1.0000\n",
      "Epoch 90/100\n",
      "24/24 [==============================] - 0s 1ms/step - loss: 0.0838 - accuracy: 1.0000\n",
      "Epoch 91/100\n",
      "24/24 [==============================] - 0s 867us/step - loss: 0.0825 - accuracy: 1.0000\n",
      "Epoch 92/100\n",
      "24/24 [==============================] - 0s 997us/step - loss: 0.0812 - accuracy: 1.0000\n",
      "Epoch 93/100\n",
      "24/24 [==============================] - 0s 824us/step - loss: 0.0799 - accuracy: 1.0000\n",
      "Epoch 94/100\n",
      "24/24 [==============================] - 0s 1ms/step - loss: 0.0787 - accuracy: 1.0000\n",
      "Epoch 95/100\n",
      "24/24 [==============================] - 0s 824us/step - loss: 0.0775 - accuracy: 1.0000\n",
      "Epoch 96/100\n",
      "24/24 [==============================] - 0s 867us/step - loss: 0.0763 - accuracy: 1.0000\n",
      "Epoch 97/100\n",
      "24/24 [==============================] - 0s 997us/step - loss: 0.0751 - accuracy: 1.0000\n",
      "Epoch 98/100\n",
      "24/24 [==============================] - 0s 824us/step - loss: 0.0740 - accuracy: 1.0000\n",
      "Epoch 99/100\n",
      "24/24 [==============================] - 0s 867us/step - loss: 0.0729 - accuracy: 1.0000\n",
      "Epoch 100/100\n",
      "24/24 [==============================] - 0s 867us/step - loss: 0.0718 - accuracy: 1.0000\n"
     ]
    }
   ],
   "source": [
    "# Fit the model to the training data\n",
    "fit_model = nn_model.fit(X_train_scaled, y_train, epochs=100)"
   ]
  },
  {
   "cell_type": "code",
   "execution_count": 11,
   "id": "054fb2b7",
   "metadata": {},
   "outputs": [
    {
     "data": {
      "text/plain": [
       "<AxesSubplot:>"
      ]
     },
     "execution_count": 11,
     "metadata": {},
     "output_type": "execute_result"
    },
    {
     "data": {
      "image/png": "[encoded data removed]",
      "text/plain": [
       "<Figure size 432x288 with 1 Axes>"
      ]
     },
     "metadata": {
      "needs_background": "light"
     },
     "output_type": "display_data"
    }
   ],
   "source": [
    "# Model objects stores loss and accuracy metrics across Epochs\n",
    "# Create DataFrame containing training history \n",
    "history_df = pd.DataFrame(fit_model.history, index=range(1, len(fit_model.history[\"loss\"])+1))\n",
    "\n",
    "# Plot the loss\n",
    "history_df.plot(y=\"loss\")"
   ]
  },
  {
   "cell_type": "code",
   "execution_count": 12,
   "id": "516042bc",
   "metadata": {},
   "outputs": [
    {
     "data": {
      "text/plain": [
       "<AxesSubplot:>"
      ]
     },
     "execution_count": 12,
     "metadata": {},
     "output_type": "execute_result"
    },
    {
     "data": {
      "image/png": "[encoded data removed]",
      "text/plain": [
       "<Figure size 432x288 with 1 Axes>"
      ]
     },
     "metadata": {
      "needs_background": "light"
     },
     "output_type": "display_data"
    }
   ],
   "source": [
    "# Plot the accuracy over time using same DF\n",
    "\n",
    "# Plot the accuracy\n",
    "history_df.plot(y=\"accuracy\")"
   ]
  },
  {
   "cell_type": "code",
   "execution_count": 13,
   "id": "e4b4034a",
   "metadata": {
    "scrolled": true
   },
   "outputs": [
    {
     "name": "stdout",
     "output_type": "stream",
     "text": [
      "8/8 - 0s - loss: 0.0669 - accuracy: 1.0000 - 131ms/epoch - 16ms/step\n",
      "Loss: 0.06686293333768845, Accuracy: 1.0\n"
     ]
    }
   ],
   "source": [
    "# Testing neural network model in TensorFlow. Use \"evaluate\" model to print loss and accuracy values\n",
    "# Evaluate the model using testing data\n",
    "model_loss, model_accuracy = nn_model.evaluate(X_test_scaled, y_test, verbose=2)\n",
    "print(f\"Loss: {model_loss}, Accuracy: {model_accuracy}\")"
   ]
  },
  {
   "cell_type": "code",
   "execution_count": 14,
   "id": "982d6d9a",
   "metadata": {},
   "outputs": [
    {
     "data": {
      "text/plain": [
       "array([[0],\n",
       "       [1],\n",
       "       [0],\n",
       "       [1],\n",
       "       [0],\n",
       "       [0],\n",
       "       [1],\n",
       "       [1],\n",
       "       [1],\n",
       "       [0]])"
      ]
     },
     "execution_count": 14,
     "metadata": {},
     "output_type": "execute_result"
    }
   ],
   "source": [
    "# Predict classification of new set of Blob data\n",
    "new_X, new_Y = make_blobs(n_samples=10, centers=2, n_features=2, random_state=78)\n",
    "new_X_scaled = X_scaler.transform(new_X)\n",
    "(nn_model.predict(new_X_scaled) > 0.5).astype(\"int32\")"
   ]
  },
  {
   "cell_type": "markdown",
   "id": "621ed793",
   "metadata": {},
   "source": [
    "# 19.2.4"
   ]
  },
  {
   "cell_type": "markdown",
   "id": "68f7d629",
   "metadata": {},
   "source": [
    "### Nonlinear Numbers"
   ]
  },
  {
   "cell_type": "code",
   "execution_count": 15,
   "id": "fcb801da",
   "metadata": {},
   "outputs": [
    {
     "data": {
      "text/plain": [
       "<AxesSubplot:xlabel='Feature 1', ylabel='Feature 2'>"
      ]
     },
     "execution_count": 15,
     "metadata": {},
     "output_type": "execute_result"
    },
    {
     "data": {
      "image/png": "[encoded data removed]",
      "text/plain": [
       "<Figure size 432x288 with 2 Axes>"
      ]
     },
     "metadata": {
      "needs_background": "light"
     },
     "output_type": "display_data"
    }
   ],
   "source": [
    "# create dummy data to generate nonlinear moon-shaped data \n",
    "# Use make_moons method, visualize it using Pandas and Matplotlib\n",
    "\n",
    "from sklearn.datasets import make_moons\n",
    "\n",
    "# Creating dummy nonlinear data\n",
    "X_moons, y_moons = make_moons(n_samples=1000, noise=0.08, random_state=78)\n",
    "\n",
    "# Transforming y_moons to a vertical vector\n",
    "y_moons = y_moons.reshape(-1, 1)\n",
    "\n",
    "# Creating a DataFrame to plot the nonlinear dummy data\n",
    "df_moons = pd.DataFrame(X_moons, columns=[\"Feature 1\", \"Feature 2\"])\n",
    "df_moons[\"Target\"] = y_moons\n",
    "\n",
    "# Plot the nonlinear dummy data\n",
    "df_moons.plot.scatter(x=\"Feature 1\", y=\"Feature 2\", c=\"Target\", colormap=\"winter\")\n"
   ]
  },
  {
   "cell_type": "code",
   "execution_count": 16,
   "id": "740d005c",
   "metadata": {},
   "outputs": [],
   "source": [
    "# With previous dummy data, need to split nonlinear data into training and testing\n",
    "# and normalize the datasets \n",
    "\n",
    "# Create training and testing sets\n",
    "X_moon_train, X_moon_test, y_moon_train, y_moon_test = train_test_split(X_moons, y_moons, \n",
    "                                                                        random_state=78)\n",
    "\n",
    "# Create the scaler instance to normalize\n",
    "X_moon_scaler = skl.preprocessing.StandardScaler()\n",
    "\n",
    "# Fit the scaler\n",
    "X_moon_scaler.fit(X_moon_train)\n",
    "\n",
    "# Scale the data\n",
    "X_moon_train_scaled = X_moon_scaler.transform(X_moon_train)\n",
    "X_moon_test_scaled = X_moon_scaler.transform(X_moon_test)\n"
   ]
  },
  {
   "cell_type": "code",
   "execution_count": 17,
   "id": "cf01f679",
   "metadata": {},
   "outputs": [
    {
     "name": "stdout",
     "output_type": "stream",
     "text": [
      "Epoch 1/100\n",
      "24/24 [==============================] - 0s 2ms/step - loss: 1.0890 - accuracy: 0.4680\n",
      "Epoch 2/100\n",
      "24/24 [==============================] - 0s 2ms/step - loss: 0.9651 - accuracy: 0.4987\n",
      "Epoch 3/100\n",
      "24/24 [==============================] - 0s 2ms/step - loss: 0.8825 - accuracy: 0.5227\n",
      "Epoch 4/100\n",
      "24/24 [==============================] - 0s 2ms/step - loss: 0.8274 - accuracy: 0.5413\n",
      "Epoch 5/100\n",
      "24/24 [==============================] - 0s 2ms/step - loss: 0.7859 - accuracy: 0.5627\n",
      "Epoch 6/100\n",
      "24/24 [==============================] - 0s 2ms/step - loss: 0.7544 - accuracy: 0.5733\n",
      "Epoch 7/100\n",
      "24/24 [==============================] - 0s 2ms/step - loss: 0.7285 - accuracy: 0.5840\n",
      "Epoch 8/100\n",
      "24/24 [==============================] - 0s 2ms/step - loss: 0.7063 - accuracy: 0.5907\n",
      "Epoch 9/100\n",
      "24/24 [==============================] - 0s 2ms/step - loss: 0.6868 - accuracy: 0.5987\n",
      "Epoch 10/100\n",
      "24/24 [==============================] - 0s 2ms/step - loss: 0.6690 - accuracy: 0.6093\n",
      "Epoch 11/100\n",
      "24/24 [==============================] - 0s 3ms/step - loss: 0.6529 - accuracy: 0.6160\n",
      "Epoch 12/100\n",
      "24/24 [==============================] - 0s 3ms/step - loss: 0.6378 - accuracy: 0.6187\n",
      "Epoch 13/100\n",
      "24/24 [==============================] - 0s 3ms/step - loss: 0.6237 - accuracy: 0.6240\n",
      "Epoch 14/100\n",
      "24/24 [==============================] - 0s 3ms/step - loss: 0.6099 - accuracy: 0.6320\n",
      "Epoch 15/100\n",
      "24/24 [==============================] - 0s 4ms/step - loss: 0.5970 - accuracy: 0.6387\n",
      "Epoch 16/100\n",
      "24/24 [==============================] - 0s 3ms/step - loss: 0.5846 - accuracy: 0.6453\n",
      "Epoch 17/100\n",
      "24/24 [==============================] - 0s 3ms/step - loss: 0.5733 - accuracy: 0.6493\n",
      "Epoch 18/100\n",
      "24/24 [==============================] - 0s 3ms/step - loss: 0.5624 - accuracy: 0.6573\n",
      "Epoch 19/100\n",
      "24/24 [==============================] - 0s 2ms/step - loss: 0.5520 - accuracy: 0.6613\n",
      "Epoch 20/100\n",
      "24/24 [==============================] - 0s 3ms/step - loss: 0.5421 - accuracy: 0.6680\n",
      "Epoch 21/100\n",
      "24/24 [==============================] - 0s 3ms/step - loss: 0.5326 - accuracy: 0.6733\n",
      "Epoch 22/100\n",
      "24/24 [==============================] - 0s 2ms/step - loss: 0.5238 - accuracy: 0.6840\n",
      "Epoch 23/100\n",
      "24/24 [==============================] - 0s 3ms/step - loss: 0.5150 - accuracy: 0.6893\n",
      "Epoch 24/100\n",
      "24/24 [==============================] - 0s 2ms/step - loss: 0.5068 - accuracy: 0.6933\n",
      "Epoch 25/100\n",
      "24/24 [==============================] - 0s 3ms/step - loss: 0.4988 - accuracy: 0.6973\n",
      "Epoch 26/100\n",
      "24/24 [==============================] - 0s 2ms/step - loss: 0.4911 - accuracy: 0.7013\n",
      "Epoch 27/100\n",
      "24/24 [==============================] - 0s 2ms/step - loss: 0.4836 - accuracy: 0.7053\n",
      "Epoch 28/100\n",
      "24/24 [==============================] - 0s 2ms/step - loss: 0.4766 - accuracy: 0.7067\n",
      "Epoch 29/100\n",
      "24/24 [==============================] - 0s 2ms/step - loss: 0.4698 - accuracy: 0.7173\n",
      "Epoch 30/100\n",
      "24/24 [==============================] - 0s 2ms/step - loss: 0.4631 - accuracy: 0.7227\n",
      "Epoch 31/100\n",
      "24/24 [==============================] - 0s 2ms/step - loss: 0.4567 - accuracy: 0.7320\n",
      "Epoch 32/100\n",
      "24/24 [==============================] - 0s 2ms/step - loss: 0.4504 - accuracy: 0.7387\n",
      "Epoch 33/100\n",
      "24/24 [==============================] - 0s 2ms/step - loss: 0.4443 - accuracy: 0.7413\n",
      "Epoch 34/100\n",
      "24/24 [==============================] - 0s 2ms/step - loss: 0.4385 - accuracy: 0.7467\n",
      "Epoch 35/100\n",
      "24/24 [==============================] - 0s 2ms/step - loss: 0.4328 - accuracy: 0.7520\n",
      "Epoch 36/100\n",
      "24/24 [==============================] - 0s 2ms/step - loss: 0.4272 - accuracy: 0.7547\n",
      "Epoch 37/100\n",
      "24/24 [==============================] - 0s 2ms/step - loss: 0.4217 - accuracy: 0.7587\n",
      "Epoch 38/100\n",
      "24/24 [==============================] - 0s 2ms/step - loss: 0.4164 - accuracy: 0.7693\n",
      "Epoch 39/100\n",
      "24/24 [==============================] - 0s 2ms/step - loss: 0.4110 - accuracy: 0.7747\n",
      "Epoch 40/100\n",
      "24/24 [==============================] - 0s 2ms/step - loss: 0.4058 - accuracy: 0.7787\n",
      "Epoch 41/100\n",
      "24/24 [==============================] - 0s 2ms/step - loss: 0.4008 - accuracy: 0.7827\n",
      "Epoch 42/100\n",
      "24/24 [==============================] - 0s 2ms/step - loss: 0.3958 - accuracy: 0.7840\n",
      "Epoch 43/100\n",
      "24/24 [==============================] - 0s 2ms/step - loss: 0.3910 - accuracy: 0.7853\n",
      "Epoch 44/100\n",
      "24/24 [==============================] - 0s 2ms/step - loss: 0.3863 - accuracy: 0.7867\n",
      "Epoch 45/100\n",
      "24/24 [==============================] - 0s 2ms/step - loss: 0.3816 - accuracy: 0.7907\n",
      "Epoch 46/100\n",
      "24/24 [==============================] - 0s 2ms/step - loss: 0.3771 - accuracy: 0.7947\n",
      "Epoch 47/100\n",
      "24/24 [==============================] - 0s 2ms/step - loss: 0.3727 - accuracy: 0.7960\n",
      "Epoch 48/100\n",
      "24/24 [==============================] - 0s 2ms/step - loss: 0.3683 - accuracy: 0.8000\n",
      "Epoch 49/100\n",
      "24/24 [==============================] - 0s 2ms/step - loss: 0.3641 - accuracy: 0.8027\n",
      "Epoch 50/100\n",
      "24/24 [==============================] - 0s 2ms/step - loss: 0.3602 - accuracy: 0.8093\n",
      "Epoch 51/100\n",
      "24/24 [==============================] - 0s 2ms/step - loss: 0.3562 - accuracy: 0.8120\n",
      "Epoch 52/100\n",
      "24/24 [==============================] - 0s 3ms/step - loss: 0.3525 - accuracy: 0.8147\n",
      "Epoch 53/100\n",
      "24/24 [==============================] - 0s 3ms/step - loss: 0.3489 - accuracy: 0.8200\n",
      "Epoch 54/100\n",
      "24/24 [==============================] - 0s 2ms/step - loss: 0.3454 - accuracy: 0.8213\n",
      "Epoch 55/100\n",
      "24/24 [==============================] - 0s 2ms/step - loss: 0.3422 - accuracy: 0.8240\n",
      "Epoch 56/100\n",
      "24/24 [==============================] - 0s 2ms/step - loss: 0.3392 - accuracy: 0.8320\n",
      "Epoch 57/100\n",
      "24/24 [==============================] - 0s 3ms/step - loss: 0.3362 - accuracy: 0.8333\n",
      "Epoch 58/100\n",
      "24/24 [==============================] - 0s 3ms/step - loss: 0.3332 - accuracy: 0.8373\n",
      "Epoch 59/100\n",
      "24/24 [==============================] - 0s 3ms/step - loss: 0.3304 - accuracy: 0.8373\n",
      "Epoch 60/100\n",
      "24/24 [==============================] - 0s 3ms/step - loss: 0.3277 - accuracy: 0.8413\n",
      "Epoch 61/100\n",
      "24/24 [==============================] - 0s 3ms/step - loss: 0.3252 - accuracy: 0.8480\n",
      "Epoch 62/100\n",
      "24/24 [==============================] - 0s 2ms/step - loss: 0.3226 - accuracy: 0.8480\n",
      "Epoch 63/100\n",
      "24/24 [==============================] - 0s 2ms/step - loss: 0.3202 - accuracy: 0.8520\n",
      "Epoch 64/100\n",
      "24/24 [==============================] - 0s 2ms/step - loss: 0.3179 - accuracy: 0.8533\n",
      "Epoch 65/100\n",
      "24/24 [==============================] - 0s 2ms/step - loss: 0.3157 - accuracy: 0.8560\n",
      "Epoch 66/100\n",
      "24/24 [==============================] - 0s 2ms/step - loss: 0.3134 - accuracy: 0.8600\n",
      "Epoch 67/100\n",
      "24/24 [==============================] - 0s 2ms/step - loss: 0.3113 - accuracy: 0.8613\n",
      "Epoch 68/100\n",
      "24/24 [==============================] - 0s 2ms/step - loss: 0.3093 - accuracy: 0.8640\n",
      "Epoch 69/100\n",
      "24/24 [==============================] - 0s 2ms/step - loss: 0.3073 - accuracy: 0.8653\n",
      "Epoch 70/100\n",
      "24/24 [==============================] - 0s 2ms/step - loss: 0.3054 - accuracy: 0.8667\n",
      "Epoch 71/100\n",
      "24/24 [==============================] - 0s 2ms/step - loss: 0.3036 - accuracy: 0.8680\n",
      "Epoch 72/100\n",
      "24/24 [==============================] - 0s 2ms/step - loss: 0.3019 - accuracy: 0.8680\n",
      "Epoch 73/100\n",
      "24/24 [==============================] - 0s 2ms/step - loss: 0.3001 - accuracy: 0.8680\n",
      "Epoch 74/100\n",
      "24/24 [==============================] - 0s 2ms/step - loss: 0.2986 - accuracy: 0.8693\n",
      "Epoch 75/100\n",
      "24/24 [==============================] - 0s 2ms/step - loss: 0.2969 - accuracy: 0.8693\n",
      "Epoch 76/100\n",
      "24/24 [==============================] - 0s 2ms/step - loss: 0.2954 - accuracy: 0.8693\n",
      "Epoch 77/100\n",
      "24/24 [==============================] - 0s 2ms/step - loss: 0.2939 - accuracy: 0.8693\n",
      "Epoch 78/100\n",
      "24/24 [==============================] - 0s 2ms/step - loss: 0.2925 - accuracy: 0.8693\n",
      "Epoch 79/100\n",
      "24/24 [==============================] - 0s 2ms/step - loss: 0.2911 - accuracy: 0.8720\n",
      "Epoch 80/100\n",
      "24/24 [==============================] - 0s 2ms/step - loss: 0.2898 - accuracy: 0.8720\n",
      "Epoch 81/100\n",
      "24/24 [==============================] - 0s 2ms/step - loss: 0.2885 - accuracy: 0.8720\n",
      "Epoch 82/100\n",
      "24/24 [==============================] - 0s 2ms/step - loss: 0.2874 - accuracy: 0.8733\n",
      "Epoch 83/100\n"
     ]
    },
    {
     "name": "stdout",
     "output_type": "stream",
     "text": [
      "24/24 [==============================] - 0s 2ms/step - loss: 0.2862 - accuracy: 0.8733\n",
      "Epoch 84/100\n",
      "24/24 [==============================] - 0s 2ms/step - loss: 0.2851 - accuracy: 0.8733\n",
      "Epoch 85/100\n",
      "24/24 [==============================] - 0s 2ms/step - loss: 0.2840 - accuracy: 0.8733\n",
      "Epoch 86/100\n",
      "24/24 [==============================] - 0s 2ms/step - loss: 0.2829 - accuracy: 0.8733\n",
      "Epoch 87/100\n",
      "24/24 [==============================] - 0s 2ms/step - loss: 0.2819 - accuracy: 0.8733\n",
      "Epoch 88/100\n",
      "24/24 [==============================] - 0s 2ms/step - loss: 0.2809 - accuracy: 0.8747\n",
      "Epoch 89/100\n",
      "24/24 [==============================] - 0s 1ms/step - loss: 0.2800 - accuracy: 0.8760\n",
      "Epoch 90/100\n",
      "24/24 [==============================] - 0s 2ms/step - loss: 0.2791 - accuracy: 0.8773\n",
      "Epoch 91/100\n",
      "24/24 [==============================] - 0s 1ms/step - loss: 0.2782 - accuracy: 0.8787\n",
      "Epoch 92/100\n",
      "24/24 [==============================] - 0s 2ms/step - loss: 0.2773 - accuracy: 0.8800\n",
      "Epoch 93/100\n",
      "24/24 [==============================] - 0s 2ms/step - loss: 0.2765 - accuracy: 0.8813\n",
      "Epoch 94/100\n",
      "24/24 [==============================] - 0s 1ms/step - loss: 0.2757 - accuracy: 0.8827\n",
      "Epoch 95/100\n",
      "24/24 [==============================] - 0s 2ms/step - loss: 0.2750 - accuracy: 0.8827\n",
      "Epoch 96/100\n",
      "24/24 [==============================] - 0s 2ms/step - loss: 0.2743 - accuracy: 0.8840\n",
      "Epoch 97/100\n",
      "24/24 [==============================] - 0s 2ms/step - loss: 0.2736 - accuracy: 0.8840\n",
      "Epoch 98/100\n",
      "24/24 [==============================] - 0s 2ms/step - loss: 0.2729 - accuracy: 0.8840\n",
      "Epoch 99/100\n",
      "24/24 [==============================] - 0s 2ms/step - loss: 0.2722 - accuracy: 0.8853\n",
      "Epoch 100/100\n",
      "24/24 [==============================] - 0s 2ms/step - loss: 0.2715 - accuracy: 0.8867\n"
     ]
    }
   ],
   "source": [
    "# After training and normalizing the data, Train neural network model using \"fit\" method\n",
    "# on the Non-linear traning data \n",
    "\n",
    "# Training the model with the nonlinear data \n",
    "model_moon = nn_model.fit(X_moon_train_scaled, y_moon_train, epochs=100, shuffle=True)"
   ]
  },
  {
   "cell_type": "code",
   "execution_count": 18,
   "id": "5efae935",
   "metadata": {},
   "outputs": [
    {
     "data": {
      "text/plain": [
       "<AxesSubplot:>"
      ]
     },
     "execution_count": 18,
     "metadata": {},
     "output_type": "execute_result"
    },
    {
     "data": {
      "image/png": "[encoded data removed]",
      "text/plain": [
       "<Figure size 432x288 with 1 Axes>"
      ]
     },
     "metadata": {
      "needs_background": "light"
     },
     "output_type": "display_data"
    }
   ],
   "source": [
    "# Plot the loss and accuracy curves over Training iteration \n",
    "\n",
    "# Create a DataFrame containing training history\n",
    "history_df = pd.DataFrame(model_moon.history, index=range(1, len(model_moon.history[\"loss\"])+1))\n",
    "\n",
    "# Plot the loss\n",
    "history_df.plot(y=\"loss\")"
   ]
  },
  {
   "cell_type": "code",
   "execution_count": 19,
   "id": "979ef469",
   "metadata": {},
   "outputs": [
    {
     "data": {
      "text/plain": [
       "<AxesSubplot:>"
      ]
     },
     "execution_count": 19,
     "metadata": {},
     "output_type": "execute_result"
    },
    {
     "data": {
      "image/png": "[encoded data removed]",
      "text/plain": [
       "<Figure size 432x288 with 1 Axes>"
      ]
     },
     "metadata": {
      "needs_background": "light"
     },
     "output_type": "display_data"
    }
   ],
   "source": [
    "# Plot the accuracy\n",
    "history_df.plot(y=\"accuracy\")"
   ]
  },
  {
   "cell_type": "markdown",
   "id": "81fd5f57",
   "metadata": {},
   "source": [
    "# Multiple-Neuron Neural Networks"
   ]
  },
  {
   "cell_type": "markdown",
   "id": "d3abf029",
   "metadata": {},
   "source": [
    "### 19.2.5"
   ]
  },
  {
   "cell_type": "code",
   "execution_count": 20,
   "id": "39e8e462",
   "metadata": {},
   "outputs": [],
   "source": [
    "# To work with more than single neuron, need to create new Sequential model \n",
    "# and train the datasets\n",
    "\n",
    "# Generate our new Sequential model \n",
    "new_model = tf.keras.models.Sequential()"
   ]
  },
  {
   "cell_type": "code",
   "execution_count": 22,
   "id": "80958ae3",
   "metadata": {},
   "outputs": [],
   "source": [
    "# Add six neurons to Units parameter \n",
    "\n",
    "# Add input and hidden layer \n",
    "number_inputs = 2\n",
    "number_hidden_nodes = 6\n",
    "\n",
    "new_model.add(tf.keras.layers.Dense(units=number_hidden_nodes, activation=\"relu\", input_dim=number_inputs))\n",
    "\n",
    "# Add the output layer that uses a probability activation function \n",
    "new_model.add(tf.keras.layers.Dense(units=1, activation=\"sigmoid\"))"
   ]
  },
  {
   "cell_type": "code",
   "execution_count": 23,
   "id": "1c28604e",
   "metadata": {},
   "outputs": [
    {
     "name": "stdout",
     "output_type": "stream",
     "text": [
      "Epoch 1/100\n",
      "24/24 [==============================] - 0s 1ms/step - loss: 0.6344 - accuracy: 0.7667\n",
      "Epoch 2/100\n",
      "24/24 [==============================] - 0s 1ms/step - loss: 0.5925 - accuracy: 0.7800\n",
      "Epoch 3/100\n",
      "24/24 [==============================] - 0s 1ms/step - loss: 0.5553 - accuracy: 0.7920\n",
      "Epoch 4/100\n",
      "24/24 [==============================] - 0s 1ms/step - loss: 0.5194 - accuracy: 0.7987\n",
      "Epoch 5/100\n",
      "24/24 [==============================] - 0s 2ms/step - loss: 0.4838 - accuracy: 0.8053\n",
      "Epoch 6/100\n",
      "24/24 [==============================] - 0s 2ms/step - loss: 0.4490 - accuracy: 0.8187\n",
      "Epoch 7/100\n",
      "24/24 [==============================] - 0s 1ms/step - loss: 0.4169 - accuracy: 0.8347\n",
      "Epoch 8/100\n",
      "24/24 [==============================] - 0s 1ms/step - loss: 0.3882 - accuracy: 0.8520\n",
      "Epoch 9/100\n",
      "24/24 [==============================] - 0s 1ms/step - loss: 0.3626 - accuracy: 0.8640\n",
      "Epoch 10/100\n",
      "24/24 [==============================] - 0s 1ms/step - loss: 0.3404 - accuracy: 0.8773\n",
      "Epoch 11/100\n",
      "24/24 [==============================] - 0s 1ms/step - loss: 0.3215 - accuracy: 0.8760\n",
      "Epoch 12/100\n",
      "24/24 [==============================] - 0s 1ms/step - loss: 0.3060 - accuracy: 0.8813\n",
      "Epoch 13/100\n",
      "24/24 [==============================] - 0s 1ms/step - loss: 0.2929 - accuracy: 0.8827\n",
      "Epoch 14/100\n",
      "24/24 [==============================] - 0s 1ms/step - loss: 0.2830 - accuracy: 0.8827\n",
      "Epoch 15/100\n",
      "24/24 [==============================] - 0s 1ms/step - loss: 0.2746 - accuracy: 0.8867\n",
      "Epoch 16/100\n",
      "24/24 [==============================] - 0s 1ms/step - loss: 0.2678 - accuracy: 0.8893\n",
      "Epoch 17/100\n",
      "24/24 [==============================] - 0s 2ms/step - loss: 0.2626 - accuracy: 0.8920\n",
      "Epoch 18/100\n",
      "24/24 [==============================] - 0s 1ms/step - loss: 0.2582 - accuracy: 0.8947\n",
      "Epoch 19/100\n",
      "24/24 [==============================] - 0s 2ms/step - loss: 0.2547 - accuracy: 0.8960\n",
      "Epoch 20/100\n",
      "24/24 [==============================] - 0s 1ms/step - loss: 0.2519 - accuracy: 0.9000\n",
      "Epoch 21/100\n",
      "24/24 [==============================] - 0s 1ms/step - loss: 0.2491 - accuracy: 0.9000\n",
      "Epoch 22/100\n",
      "24/24 [==============================] - 0s 1ms/step - loss: 0.2473 - accuracy: 0.9000\n",
      "Epoch 23/100\n",
      "24/24 [==============================] - 0s 2ms/step - loss: 0.2451 - accuracy: 0.9013\n",
      "Epoch 24/100\n",
      "24/24 [==============================] - 0s 1ms/step - loss: 0.2433 - accuracy: 0.9013\n",
      "Epoch 25/100\n",
      "24/24 [==============================] - 0s 1ms/step - loss: 0.2421 - accuracy: 0.9013\n",
      "Epoch 26/100\n",
      "24/24 [==============================] - 0s 2ms/step - loss: 0.2404 - accuracy: 0.9027\n",
      "Epoch 27/100\n",
      "24/24 [==============================] - 0s 1ms/step - loss: 0.2390 - accuracy: 0.9027\n",
      "Epoch 28/100\n",
      "24/24 [==============================] - 0s 1ms/step - loss: 0.2380 - accuracy: 0.9013\n",
      "Epoch 29/100\n",
      "24/24 [==============================] - 0s 2ms/step - loss: 0.2364 - accuracy: 0.9013\n",
      "Epoch 30/100\n",
      "24/24 [==============================] - 0s 2ms/step - loss: 0.2350 - accuracy: 0.9000\n",
      "Epoch 31/100\n",
      "24/24 [==============================] - 0s 2ms/step - loss: 0.2340 - accuracy: 0.9013\n",
      "Epoch 32/100\n",
      "24/24 [==============================] - 0s 2ms/step - loss: 0.2327 - accuracy: 0.9027\n",
      "Epoch 33/100\n",
      "24/24 [==============================] - 0s 2ms/step - loss: 0.2315 - accuracy: 0.9040\n",
      "Epoch 34/100\n",
      "24/24 [==============================] - 0s 2ms/step - loss: 0.2303 - accuracy: 0.9027\n",
      "Epoch 35/100\n",
      "24/24 [==============================] - 0s 2ms/step - loss: 0.2290 - accuracy: 0.9027\n",
      "Epoch 36/100\n",
      "24/24 [==============================] - 0s 2ms/step - loss: 0.2278 - accuracy: 0.9027\n",
      "Epoch 37/100\n",
      "24/24 [==============================] - 0s 2ms/step - loss: 0.2266 - accuracy: 0.9027\n",
      "Epoch 38/100\n",
      "24/24 [==============================] - 0s 2ms/step - loss: 0.2253 - accuracy: 0.9040\n",
      "Epoch 39/100\n",
      "24/24 [==============================] - 0s 1ms/step - loss: 0.2241 - accuracy: 0.9053\n",
      "Epoch 40/100\n",
      "24/24 [==============================] - 0s 1ms/step - loss: 0.2228 - accuracy: 0.9053\n",
      "Epoch 41/100\n",
      "24/24 [==============================] - 0s 2ms/step - loss: 0.2214 - accuracy: 0.9040\n",
      "Epoch 42/100\n",
      "24/24 [==============================] - 0s 2ms/step - loss: 0.2200 - accuracy: 0.9040\n",
      "Epoch 43/100\n",
      "24/24 [==============================] - 0s 1ms/step - loss: 0.2187 - accuracy: 0.9040\n",
      "Epoch 44/100\n",
      "24/24 [==============================] - 0s 1ms/step - loss: 0.2173 - accuracy: 0.9053\n",
      "Epoch 45/100\n",
      "24/24 [==============================] - 0s 2ms/step - loss: 0.2156 - accuracy: 0.9053\n",
      "Epoch 46/100\n",
      "24/24 [==============================] - 0s 2ms/step - loss: 0.2139 - accuracy: 0.9053\n",
      "Epoch 47/100\n",
      "24/24 [==============================] - 0s 2ms/step - loss: 0.2117 - accuracy: 0.9053\n",
      "Epoch 48/100\n",
      "24/24 [==============================] - 0s 2ms/step - loss: 0.2100 - accuracy: 0.9053\n",
      "Epoch 49/100\n",
      "24/24 [==============================] - 0s 2ms/step - loss: 0.2080 - accuracy: 0.9053\n",
      "Epoch 50/100\n",
      "24/24 [==============================] - 0s 1ms/step - loss: 0.2060 - accuracy: 0.9053\n",
      "Epoch 51/100\n",
      "24/24 [==============================] - 0s 1ms/step - loss: 0.2036 - accuracy: 0.9053\n",
      "Epoch 52/100\n",
      "24/24 [==============================] - 0s 2ms/step - loss: 0.2014 - accuracy: 0.9080\n",
      "Epoch 53/100\n",
      "24/24 [==============================] - 0s 2ms/step - loss: 0.1990 - accuracy: 0.9067\n",
      "Epoch 54/100\n",
      "24/24 [==============================] - 0s 1ms/step - loss: 0.1965 - accuracy: 0.9093\n",
      "Epoch 55/100\n",
      "24/24 [==============================] - 0s 1ms/step - loss: 0.1933 - accuracy: 0.9107\n",
      "Epoch 56/100\n",
      "24/24 [==============================] - 0s 1ms/step - loss: 0.1904 - accuracy: 0.9120\n",
      "Epoch 57/100\n",
      "24/24 [==============================] - 0s 1ms/step - loss: 0.1874 - accuracy: 0.9133\n",
      "Epoch 58/100\n",
      "24/24 [==============================] - 0s 1ms/step - loss: 0.1844 - accuracy: 0.9147\n",
      "Epoch 59/100\n",
      "24/24 [==============================] - 0s 1ms/step - loss: 0.1811 - accuracy: 0.9173\n",
      "Epoch 60/100\n",
      "24/24 [==============================] - 0s 1ms/step - loss: 0.1781 - accuracy: 0.9187\n",
      "Epoch 61/100\n",
      "24/24 [==============================] - 0s 1ms/step - loss: 0.1748 - accuracy: 0.9187\n",
      "Epoch 62/100\n",
      "24/24 [==============================] - 0s 1ms/step - loss: 0.1716 - accuracy: 0.9187\n",
      "Epoch 63/100\n",
      "24/24 [==============================] - 0s 1ms/step - loss: 0.1681 - accuracy: 0.9227\n",
      "Epoch 64/100\n",
      "24/24 [==============================] - 0s 1ms/step - loss: 0.1646 - accuracy: 0.9253\n",
      "Epoch 65/100\n",
      "24/24 [==============================] - 0s 1ms/step - loss: 0.1610 - accuracy: 0.9267\n",
      "Epoch 66/100\n",
      "24/24 [==============================] - 0s 1ms/step - loss: 0.1570 - accuracy: 0.9280\n",
      "Epoch 67/100\n",
      "24/24 [==============================] - 0s 1ms/step - loss: 0.1532 - accuracy: 0.9320\n",
      "Epoch 68/100\n",
      "24/24 [==============================] - 0s 1ms/step - loss: 0.1490 - accuracy: 0.9320\n",
      "Epoch 69/100\n",
      "24/24 [==============================] - 0s 1ms/step - loss: 0.1445 - accuracy: 0.9347\n",
      "Epoch 70/100\n",
      "24/24 [==============================] - 0s 2ms/step - loss: 0.1402 - accuracy: 0.9373\n",
      "Epoch 71/100\n",
      "24/24 [==============================] - 0s 1ms/step - loss: 0.1360 - accuracy: 0.9400\n",
      "Epoch 72/100\n",
      "24/24 [==============================] - 0s 1ms/step - loss: 0.1319 - accuracy: 0.9413\n",
      "Epoch 73/100\n",
      "24/24 [==============================] - 0s 1ms/step - loss: 0.1271 - accuracy: 0.9427\n",
      "Epoch 74/100\n",
      "24/24 [==============================] - 0s 1ms/step - loss: 0.1229 - accuracy: 0.9493\n",
      "Epoch 75/100\n",
      "24/24 [==============================] - 0s 1ms/step - loss: 0.1185 - accuracy: 0.9520\n",
      "Epoch 76/100\n",
      "24/24 [==============================] - 0s 1ms/step - loss: 0.1144 - accuracy: 0.9560\n",
      "Epoch 77/100\n",
      "24/24 [==============================] - 0s 1ms/step - loss: 0.1103 - accuracy: 0.9600\n",
      "Epoch 78/100\n",
      "24/24 [==============================] - 0s 1ms/step - loss: 0.1063 - accuracy: 0.9640\n",
      "Epoch 79/100\n",
      "24/24 [==============================] - 0s 1ms/step - loss: 0.1025 - accuracy: 0.9667\n",
      "Epoch 80/100\n",
      "24/24 [==============================] - 0s 1ms/step - loss: 0.0985 - accuracy: 0.9667\n",
      "Epoch 81/100\n",
      "24/24 [==============================] - 0s 1ms/step - loss: 0.0948 - accuracy: 0.9680\n",
      "Epoch 82/100\n",
      "24/24 [==============================] - 0s 1ms/step - loss: 0.0909 - accuracy: 0.9680\n",
      "Epoch 83/100\n"
     ]
    },
    {
     "name": "stdout",
     "output_type": "stream",
     "text": [
      "24/24 [==============================] - 0s 824us/step - loss: 0.0872 - accuracy: 0.9693\n",
      "Epoch 84/100\n",
      "24/24 [==============================] - 0s 1ms/step - loss: 0.0834 - accuracy: 0.9733\n",
      "Epoch 85/100\n",
      "24/24 [==============================] - 0s 1ms/step - loss: 0.0795 - accuracy: 0.9800\n",
      "Epoch 86/100\n",
      "24/24 [==============================] - 0s 1ms/step - loss: 0.0764 - accuracy: 0.9800\n",
      "Epoch 87/100\n",
      "24/24 [==============================] - 0s 1ms/step - loss: 0.0732 - accuracy: 0.9827\n",
      "Epoch 88/100\n",
      "24/24 [==============================] - 0s 1ms/step - loss: 0.0702 - accuracy: 0.9867\n",
      "Epoch 89/100\n",
      "24/24 [==============================] - 0s 1ms/step - loss: 0.0674 - accuracy: 0.9867\n",
      "Epoch 90/100\n",
      "24/24 [==============================] - 0s 1ms/step - loss: 0.0646 - accuracy: 0.9907\n",
      "Epoch 91/100\n",
      "24/24 [==============================] - 0s 1ms/step - loss: 0.0621 - accuracy: 0.9933\n",
      "Epoch 92/100\n",
      "24/24 [==============================] - 0s 997us/step - loss: 0.0597 - accuracy: 0.9947\n",
      "Epoch 93/100\n",
      "24/24 [==============================] - 0s 1ms/step - loss: 0.0574 - accuracy: 0.9947\n",
      "Epoch 94/100\n",
      "24/24 [==============================] - 0s 1ms/step - loss: 0.0554 - accuracy: 0.9947\n",
      "Epoch 95/100\n",
      "24/24 [==============================] - 0s 1ms/step - loss: 0.0531 - accuracy: 0.9947\n",
      "Epoch 96/100\n",
      "24/24 [==============================] - 0s 1ms/step - loss: 0.0514 - accuracy: 0.9947\n",
      "Epoch 97/100\n",
      "24/24 [==============================] - 0s 1ms/step - loss: 0.0495 - accuracy: 0.9947\n",
      "Epoch 98/100\n",
      "24/24 [==============================] - 0s 1ms/step - loss: 0.0478 - accuracy: 0.9947\n",
      "Epoch 99/100\n",
      "24/24 [==============================] - 0s 1ms/step - loss: 0.0460 - accuracy: 0.9947\n",
      "Epoch 100/100\n",
      "24/24 [==============================] - 0s 997us/step - loss: 0.0444 - accuracy: 0.9947\n"
     ]
    }
   ],
   "source": [
    "# Once new Sequential model is created, compile and train the model using non-linear moon-shaped datas\n",
    "\n",
    "# Compile the Sequential model together and customize metrics\n",
    "new_model.compile(loss=\"binary_crossentropy\", optimizer=\"adam\", metrics=[\"accuracy\"])\n",
    "\n",
    "# Fit the model to the training data\n",
    "new_fit_model = new_model.fit(X_moon_train_scaled, y_moon_train, epochs=100, shuffle=True)"
   ]
  },
  {
   "cell_type": "code",
   "execution_count": null,
   "id": "cd32e64c",
   "metadata": {},
   "outputs": [],
   "source": []
  }
 ],
 "metadata": {
  "kernelspec": {
   "display_name": "mlenv",
   "language": "python",
   "name": "mlenv"
  },
  "language_info": {
   "codemirror_mode": {
    "name": "ipython",
    "version": 3
   },
   "file_extension": ".py",
   "mimetype": "text/x-python",
   "name": "python",
   "nbconvert_exporter": "python",
   "pygments_lexer": "ipython3",
   "version": "3.8.8"
  }
 },
 "nbformat": 4,
 "nbformat_minor": 5
}
